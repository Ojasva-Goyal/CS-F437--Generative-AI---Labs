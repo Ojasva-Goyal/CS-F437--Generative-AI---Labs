{
  "nbformat": 4,
  "nbformat_minor": 0,
  "metadata": {
    "colab": {
      "provenance": []
    },
    "kernelspec": {
      "name": "python3",
      "display_name": "Python 3"
    },
    "language_info": {
      "name": "python"
    }
  },
  "cells": [
    {
      "cell_type": "code",
      "execution_count": 1,
      "metadata": {
        "id": "HTt_JyWBYEk4"
      },
      "outputs": [],
      "source": [
        "import tensorflow as tf\n",
        "from tensorflow.keras.datasets import mnist\n",
        "from tensorflow.keras.models import Model\n",
        "from tensorflow.keras.layers import Input, Dense"
      ]
    },
    {
      "cell_type": "code",
      "source": [
        "(x_train, _), (x_test, _) = mnist.load_data()"
      ],
      "metadata": {
        "id": "470rezMHYH8d",
        "colab": {
          "base_uri": "https://localhost:8080/"
        },
        "outputId": "11732f50-6dcf-46b8-b208-8999625e4628"
      },
      "execution_count": 2,
      "outputs": [
        {
          "output_type": "stream",
          "name": "stdout",
          "text": [
            "Downloading data from https://storage.googleapis.com/tensorflow/tf-keras-datasets/mnist.npz\n",
            "11490434/11490434 [==============================] - 0s 0us/step\n"
          ]
        }
      ]
    },
    {
      "cell_type": "code",
      "source": [
        "x_train = x_train.astype('float32') / 255.\n",
        "x_test = x_test.astype('float32') / 255."
      ],
      "metadata": {
        "id": "PAgHySCIYLYe"
      },
      "execution_count": 3,
      "outputs": []
    },
    {
      "cell_type": "code",
      "source": [
        "x_train = x_train.reshape((len(x_train), -1))\n",
        "x_test = x_test.reshape((len(x_test), -1))"
      ],
      "metadata": {
        "id": "Lb_h6acdYM1h"
      },
      "execution_count": 4,
      "outputs": []
    },
    {
      "cell_type": "code",
      "source": [
        "encoding_dim = 32"
      ],
      "metadata": {
        "id": "pD2HIQLdYO1-"
      },
      "execution_count": 5,
      "outputs": []
    },
    {
      "cell_type": "code",
      "source": [
        "input_img = Input(shape=(784,))"
      ],
      "metadata": {
        "id": "V7qTYl7vYQYd"
      },
      "execution_count": 6,
      "outputs": []
    },
    {
      "cell_type": "code",
      "source": [
        "encoded = Dense(128, activation='relu')(input_img)\n",
        "encoded = Dense(64, activation='relu')(encoded)\n",
        "encoded = Dense(encoding_dim, activation='relu')(encoded)"
      ],
      "metadata": {
        "id": "WSQO5j8-YSK9"
      },
      "execution_count": 7,
      "outputs": []
    },
    {
      "cell_type": "code",
      "source": [
        "decoded = Dense(64, activation='relu')(encoded)\n",
        "decoded = Dense(128, activation='relu')(decoded)\n",
        "decoded = Dense(784, activation='sigmoid')(decoded)"
      ],
      "metadata": {
        "id": "5UI3aeHjYUZ1"
      },
      "execution_count": 8,
      "outputs": []
    },
    {
      "cell_type": "code",
      "source": [
        "autoencoder = Model(input_img, decoded)"
      ],
      "metadata": {
        "id": "uVM6dcexYWHl"
      },
      "execution_count": 9,
      "outputs": []
    },
    {
      "cell_type": "code",
      "source": [
        "encoder = Model(input_img, encoded)"
      ],
      "metadata": {
        "id": "tSDAvJHcYXd5"
      },
      "execution_count": 10,
      "outputs": []
    },
    {
      "cell_type": "code",
      "source": [
        "encoded_input = Input(shape=(encoding_dim,))\n",
        "decoder_layer1 = autoencoder.layers[-3]\n",
        "decoder_layer2 = autoencoder.layers[-2]\n",
        "decoder_layer3 = autoencoder.layers[-1]\n",
        "decoder = Model(encoded_input, decoder_layer3(decoder_layer2(decoder_layer1(encoded_input))))"
      ],
      "metadata": {
        "id": "VYyiaAtyYYqU"
      },
      "execution_count": 16,
      "outputs": []
    },
    {
      "cell_type": "code",
      "source": [
        "autoencoder.compile(optimizer='adam', loss='binary_crossentropy')"
      ],
      "metadata": {
        "id": "mYvKlW1yYbF0"
      },
      "execution_count": 17,
      "outputs": []
    },
    {
      "cell_type": "code",
      "source": [
        "autoencoder.fit(x_train, x_train, epochs=50, batch_size=256,shuffle=True, validation_data=(x_test, x_test))"
      ],
      "metadata": {
        "id": "yQnvUNRYYdNp",
        "colab": {
          "base_uri": "https://localhost:8080/"
        },
        "outputId": "ec53184f-4b7e-479a-85e2-8dab2a667eaa"
      },
      "execution_count": 18,
      "outputs": [
        {
          "output_type": "stream",
          "name": "stdout",
          "text": [
            "Epoch 1/50\n",
            "235/235 [==============================] - 6s 19ms/step - loss: 0.2453 - val_loss: 0.1657\n",
            "Epoch 2/50\n",
            "235/235 [==============================] - 5s 20ms/step - loss: 0.1499 - val_loss: 0.1372\n",
            "Epoch 3/50\n",
            "235/235 [==============================] - 4s 17ms/step - loss: 0.1332 - val_loss: 0.1253\n",
            "Epoch 4/50\n",
            "235/235 [==============================] - 4s 18ms/step - loss: 0.1226 - val_loss: 0.1172\n",
            "Epoch 5/50\n",
            "235/235 [==============================] - 5s 20ms/step - loss: 0.1161 - val_loss: 0.1126\n",
            "Epoch 6/50\n",
            "235/235 [==============================] - 4s 16ms/step - loss: 0.1124 - val_loss: 0.1093\n",
            "Epoch 7/50\n",
            "235/235 [==============================] - 4s 18ms/step - loss: 0.1094 - val_loss: 0.1072\n",
            "Epoch 8/50\n",
            "235/235 [==============================] - 5s 20ms/step - loss: 0.1071 - val_loss: 0.1050\n",
            "Epoch 9/50\n",
            "235/235 [==============================] - 4s 16ms/step - loss: 0.1051 - val_loss: 0.1029\n",
            "Epoch 10/50\n",
            "235/235 [==============================] - 4s 17ms/step - loss: 0.1035 - val_loss: 0.1018\n",
            "Epoch 11/50\n",
            "235/235 [==============================] - 5s 20ms/step - loss: 0.1020 - val_loss: 0.1001\n",
            "Epoch 12/50\n",
            "235/235 [==============================] - 4s 16ms/step - loss: 0.1006 - val_loss: 0.0987\n",
            "Epoch 13/50\n",
            "235/235 [==============================] - 4s 18ms/step - loss: 0.0994 - val_loss: 0.0979\n",
            "Epoch 14/50\n",
            "235/235 [==============================] - 5s 20ms/step - loss: 0.0984 - val_loss: 0.0970\n",
            "Epoch 15/50\n",
            "235/235 [==============================] - 4s 17ms/step - loss: 0.0974 - val_loss: 0.0963\n",
            "Epoch 16/50\n",
            "235/235 [==============================] - 4s 18ms/step - loss: 0.0967 - val_loss: 0.0952\n",
            "Epoch 17/50\n",
            "235/235 [==============================] - 5s 20ms/step - loss: 0.0958 - val_loss: 0.0948\n",
            "Epoch 18/50\n",
            "235/235 [==============================] - 4s 16ms/step - loss: 0.0950 - val_loss: 0.0936\n",
            "Epoch 19/50\n",
            "235/235 [==============================] - 4s 16ms/step - loss: 0.0942 - val_loss: 0.0932\n",
            "Epoch 20/50\n",
            "235/235 [==============================] - 5s 21ms/step - loss: 0.0934 - val_loss: 0.0922\n",
            "Epoch 21/50\n",
            "235/235 [==============================] - 4s 16ms/step - loss: 0.0929 - val_loss: 0.0923\n",
            "Epoch 22/50\n",
            "235/235 [==============================] - 4s 17ms/step - loss: 0.0924 - val_loss: 0.0917\n",
            "Epoch 23/50\n",
            "235/235 [==============================] - 5s 21ms/step - loss: 0.0919 - val_loss: 0.0909\n",
            "Epoch 24/50\n",
            "235/235 [==============================] - 4s 17ms/step - loss: 0.0916 - val_loss: 0.0906\n",
            "Epoch 25/50\n",
            "235/235 [==============================] - 4s 16ms/step - loss: 0.0912 - val_loss: 0.0902\n",
            "Epoch 26/50\n",
            "235/235 [==============================] - 5s 21ms/step - loss: 0.0908 - val_loss: 0.0897\n",
            "Epoch 27/50\n",
            "235/235 [==============================] - 4s 16ms/step - loss: 0.0904 - val_loss: 0.0896\n",
            "Epoch 28/50\n",
            "235/235 [==============================] - 4s 16ms/step - loss: 0.0900 - val_loss: 0.0891\n",
            "Epoch 29/50\n",
            "235/235 [==============================] - 5s 21ms/step - loss: 0.0896 - val_loss: 0.0889\n",
            "Epoch 30/50\n",
            "235/235 [==============================] - 4s 16ms/step - loss: 0.0893 - val_loss: 0.0884\n",
            "Epoch 31/50\n",
            "235/235 [==============================] - 4s 16ms/step - loss: 0.0889 - val_loss: 0.0880\n",
            "Epoch 32/50\n",
            "235/235 [==============================] - 5s 21ms/step - loss: 0.0886 - val_loss: 0.0879\n",
            "Epoch 33/50\n",
            "235/235 [==============================] - 4s 16ms/step - loss: 0.0883 - val_loss: 0.0876\n",
            "Epoch 34/50\n",
            "235/235 [==============================] - 4s 16ms/step - loss: 0.0880 - val_loss: 0.0877\n",
            "Epoch 35/50\n",
            "235/235 [==============================] - 5s 21ms/step - loss: 0.0878 - val_loss: 0.0869\n",
            "Epoch 36/50\n",
            "235/235 [==============================] - 4s 16ms/step - loss: 0.0875 - val_loss: 0.0868\n",
            "Epoch 37/50\n",
            "235/235 [==============================] - 4s 16ms/step - loss: 0.0872 - val_loss: 0.0865\n",
            "Epoch 38/50\n",
            "235/235 [==============================] - 5s 21ms/step - loss: 0.0870 - val_loss: 0.0863\n",
            "Epoch 39/50\n",
            "235/235 [==============================] - 4s 16ms/step - loss: 0.0869 - val_loss: 0.0864\n",
            "Epoch 40/50\n",
            "235/235 [==============================] - 4s 16ms/step - loss: 0.0867 - val_loss: 0.0861\n",
            "Epoch 41/50\n",
            "235/235 [==============================] - 5s 21ms/step - loss: 0.0865 - val_loss: 0.0858\n",
            "Epoch 42/50\n",
            "235/235 [==============================] - 4s 17ms/step - loss: 0.0863 - val_loss: 0.0861\n",
            "Epoch 43/50\n",
            "235/235 [==============================] - 4s 16ms/step - loss: 0.0863 - val_loss: 0.0857\n",
            "Epoch 44/50\n",
            "235/235 [==============================] - 5s 22ms/step - loss: 0.0860 - val_loss: 0.0859\n",
            "Epoch 45/50\n",
            "235/235 [==============================] - 4s 16ms/step - loss: 0.0859 - val_loss: 0.0854\n",
            "Epoch 46/50\n",
            "235/235 [==============================] - 4s 16ms/step - loss: 0.0858 - val_loss: 0.0853\n",
            "Epoch 47/50\n",
            "235/235 [==============================] - 5s 21ms/step - loss: 0.0857 - val_loss: 0.0856\n",
            "Epoch 48/50\n",
            "235/235 [==============================] - 4s 16ms/step - loss: 0.0855 - val_loss: 0.0853\n",
            "Epoch 49/50\n",
            "235/235 [==============================] - 4s 17ms/step - loss: 0.0854 - val_loss: 0.0853\n",
            "Epoch 50/50\n",
            "235/235 [==============================] - 5s 21ms/step - loss: 0.0853 - val_loss: 0.0849\n"
          ]
        },
        {
          "output_type": "execute_result",
          "data": {
            "text/plain": [
              "<keras.src.callbacks.History at 0x7e7c5e28cdf0>"
            ]
          },
          "metadata": {},
          "execution_count": 18
        }
      ]
    },
    {
      "cell_type": "code",
      "source": [
        "import matplotlib.pyplot as plt\n",
        "# Use the encoder to transform the test set into the encoded space\n",
        "encoded_imgs = encoder.predict(x_test)\n",
        "# Use the decoder to generate new images from the encoded representations\n",
        "generated_images = decoder.predict(encoded_imgs)\n",
        "# Reshape and visualize the generated images\n",
        "plt.figure(figsize=(20, 4))\n",
        "n=10\n",
        "for i in range(n):\n",
        "  ax = plt.subplot(2, n, i + 1)\n",
        "  plt.imshow(generated_images[i].reshape(28, 28))\n",
        "  plt.gray()\n",
        "  ax.get_xaxis().set_visible(False)\n",
        "  ax.get_yaxis().set_visible(False)\n",
        "plt.show()\n"
      ],
      "metadata": {
        "id": "aN6bTAYpYnil",
        "colab": {
          "base_uri": "https://localhost:8080/",
          "height": 114
        },
        "outputId": "76d3a4dd-5e0e-4ff8-f615-e6e2659efb96"
      },
      "execution_count": 22,
      "outputs": [
        {
          "output_type": "stream",
          "name": "stdout",
          "text": [
            "313/313 [==============================] - 1s 2ms/step\n",
            "313/313 [==============================] - 1s 2ms/step\n"
          ]
        },
        {
          "output_type": "display_data",
          "data": {
            "text/plain": [
              "<Figure size 2000x400 with 10 Axes>"
            ],
            "image/png": "[encoded data removed]"
          },
          "metadata": {}
        }
      ]
    },
    {
      "cell_type": "markdown",
      "source": [
        "In the above implementation, the autoencoder is trained on the MNIST dataset, which consists of handwritten digits from 0 to 9. The autoencoder learns to encode and decode representations of these digits during the training process. Therefore, the generated images produced by the decoder will likely resemble digits from the MNIST dataset."
      ],
      "metadata": {
        "id": "QDEkyRiGecDc"
      }
    },
    {
      "cell_type": "markdown",
      "source": [
        "###Observations:\n",
        "\n",
        "1. The generated images likely resembles the digits present in the training dataset because the model has learned to encode and decode these specific patterns.\n",
        "\n",
        "2. Not Completely New Images: Since the model is trained on a specific dataset, it may not be able to generate entirely new images that it has never seen before.\n",
        "\n",
        " The autoencoder is constrained by the patterns present in the MNIST dataset, and it can only generate variations or reconstructions of those patterns.\n",
        "\n",
        "\n",
        "---\n",
        "\n"
      ],
      "metadata": {
        "id": "SKiapdx_eh_9"
      }
    },
    {
      "cell_type": "markdown",
      "source": [
        "**Variational Autoencoders** (VAEs) explicitly model the distribution of the encoded representations and allows us to sample from this distribution to generate new images.\n",
        "\n",
        "In a VAE, the encoder produces not only the mean but also the variance of the distribution for each dimension in the encoded space. This means that rather than providing a fixed point in the encoded space, VAEs model a probability distribution. Sampling from this distribution during the generation process allows the model to generate diverse and novel outputs.\n",
        "\n",
        "\n",
        "- Latent Space Distribution: VAEs model the latent space as a probability distribution, typically a Gaussian distribution (normal distribution), where the mean and variance are learned during training.\n",
        "\n",
        "- Reparameterization Trick: To enable backpropagation during training, a reparameterization trick is used.\n",
        "\n",
        " Instead of directly sampling from the distribution, the model samples from a standard Gaussian distribution and then scales and shifts the samples using the mean and variance predicted by the encoder.\n",
        "\n",
        "- Sampling for Generation: During the generation process, we can sample from the learned distribution in the latent space to obtain different representations. This allows the generation of diverse and novel images by exploring different regions of the latent space."
      ],
      "metadata": {
        "id": "WjZ6I0VwfECH"
      }
    }
  ]
}
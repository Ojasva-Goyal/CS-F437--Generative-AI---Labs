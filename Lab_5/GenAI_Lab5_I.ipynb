{
  "nbformat": 4,
  "nbformat_minor": 0,
  "metadata": {
    "colab": {
      "provenance": [],
      "gpuType": "T4"
    },
    "kernelspec": {
      "name": "python3",
      "display_name": "Python 3"
    },
    "language_info": {
      "name": "python"
    },
    "accelerator": "GPU"
  },
  "cells": [
    {
      "cell_type": "code",
      "execution_count": 1,
      "metadata": {
        "id": "0gU6KYOPWNTL"
      },
      "outputs": [],
      "source": [
        "import tensorflow as tf\n",
        "from tensorflow.keras import layers\n",
        "import matplotlib.pyplot as plt\n",
        "import numpy as np\n"
      ]
    },
    {
      "cell_type": "code",
      "source": [
        "class PixelRNN(tf.keras.Model):\n",
        "  def __init__(self, hidden_dim=128, num_pixels=256):\n",
        "    super(PixelRNN, self).__init__()\n",
        "    # Define the hidden dimension and number of pixels\n",
        "    self.hidden_dim = hidden_dim\n",
        "    self.num_pixels = num_pixels\n",
        "    # Define the LSTM layer with the specified hidden dimension\n",
        "    self.lstm = layers.LSTM(hidden_dim, return_sequences=True)\n",
        "    # Define the Dense layer with softmax activation function\n",
        "    self.dense = layers.Dense(num_pixels)\n",
        "  def call(self, x):\n",
        "    # Pass the input through the LSTM layer\n",
        "    x = self.lstm(x)\n",
        "    # Pass the output of LSTM layer through the Dense layer\n",
        "    return self.dense(x)"
      ],
      "metadata": {
        "id": "G_DEvXYtWRyq"
      },
      "execution_count": 2,
      "outputs": []
    },
    {
      "cell_type": "code",
      "source": [
        "(x_train, y_train), (x_test, y_test) = tf.keras.datasets.cifar10.load_data()\n",
        "# Normalize the pixel values to be between 0 and 1\n",
        "x_train, x_test = x_train / 255.0, x_test / 255.0\n"
      ],
      "metadata": {
        "colab": {
          "base_uri": "https://localhost:8080/"
        },
        "id": "MEoMSUzrWgWX",
        "outputId": "699ac2d9-fa06-4164-952d-b1d88c35550c"
      },
      "execution_count": 3,
      "outputs": [
        {
          "output_type": "stream",
          "name": "stdout",
          "text": [
            "Downloading data from https://www.cs.toronto.edu/~kriz/cifar-10-python.tar.gz\n",
            "170498071/170498071 [==============================] - 2s 0us/step\n"
          ]
        }
      ]
    },
    {
      "cell_type": "code",
      "source": [
        "x_train = x_train.reshape((-1, 3072, 1))\n",
        "x_test = x_test.reshape((-1, 3072, 1))"
      ],
      "metadata": {
        "id": "j-4n4BhXWrH9"
      },
      "execution_count": 4,
      "outputs": []
    },
    {
      "cell_type": "code",
      "source": [
        "x_train_inputs = x_train[:, :-1]\n",
        "x_train_targets = x_train[:, 1:]\n",
        "x_test_inputs = x_test[:, :-1]\n",
        "x_test_targets = x_test[:, 1:]\n"
      ],
      "metadata": {
        "id": "IJ8epEI5WvE7"
      },
      "execution_count": 5,
      "outputs": []
    },
    {
      "cell_type": "code",
      "source": [
        "model = PixelRNN()\n"
      ],
      "metadata": {
        "id": "aiPUI6njWxYk"
      },
      "execution_count": 6,
      "outputs": []
    },
    {
      "cell_type": "code",
      "source": [
        "model.compile(optimizer='adam', loss=tf.keras.losses.SparseCategoricalCrossentropy(from_logits=True),\n",
        "metrics=['accuracy'])"
      ],
      "metadata": {
        "id": "EefCkgGsWypr"
      },
      "execution_count": 7,
      "outputs": []
    },
    {
      "cell_type": "code",
      "source": [
        "model.fit(x_train_inputs, x_train_targets, epochs=5)"
      ],
      "metadata": {
        "colab": {
          "base_uri": "https://localhost:8080/"
        },
        "id": "ZnNvfA0sW2iT",
        "outputId": "5ba139f9-c70e-40aa-ae6e-5be4251678aa"
      },
      "execution_count": 8,
      "outputs": [
        {
          "output_type": "stream",
          "name": "stdout",
          "text": [
            "Epoch 1/5\n",
            "1563/1563 [==============================] - 167s 105ms/step - loss: 0.1048 - accuracy: 0.0024\n",
            "Epoch 2/5\n",
            "1563/1563 [==============================] - 165s 106ms/step - loss: 0.0352 - accuracy: 0.0025\n",
            "Epoch 3/5\n",
            "1563/1563 [==============================] - 166s 106ms/step - loss: 0.0282 - accuracy: 0.0029\n",
            "Epoch 4/5\n",
            "1563/1563 [==============================] - 167s 107ms/step - loss: 0.0252 - accuracy: 0.0034\n",
            "Epoch 5/5\n",
            "1563/1563 [==============================] - 167s 107ms/step - loss: 0.0234 - accuracy: 0.0039\n"
          ]
        },
        {
          "output_type": "execute_result",
          "data": {
            "text/plain": [
              "<keras.src.callbacks.History at 0x79d58ed55600>"
            ]
          },
          "metadata": {},
          "execution_count": 8
        }
      ]
    },
    {
      "cell_type": "code",
      "source": [
        "model.evaluate(x_test_inputs, x_test_targets)"
      ],
      "metadata": {
        "colab": {
          "base_uri": "https://localhost:8080/"
        },
        "id": "Cj5e42NLaX1y",
        "outputId": "96c7728b-b38d-44ff-fec2-f3f8dbc1a116"
      },
      "execution_count": 9,
      "outputs": [
        {
          "output_type": "stream",
          "name": "stdout",
          "text": [
            "313/313 [==============================] - 19s 58ms/step - loss: 0.0212 - accuracy: 0.0082\n"
          ]
        },
        {
          "output_type": "execute_result",
          "data": {
            "text/plain": [
              "[0.021195199340581894, 0.008212113752961159]"
            ]
          },
          "metadata": {},
          "execution_count": 9
        }
      ]
    },
    {
      "cell_type": "code",
      "source": [
        "predictions = model.predict(x_test_inputs[:10])"
      ],
      "metadata": {
        "colab": {
          "base_uri": "https://localhost:8080/"
        },
        "id": "-Jq_3tIXak51",
        "outputId": "6a7153ed-ae41-4245-acf2-6fe01286127b"
      },
      "execution_count": 10,
      "outputs": [
        {
          "output_type": "stream",
          "name": "stdout",
          "text": [
            "1/1 [==============================] - 0s 427ms/step\n"
          ]
        }
      ]
    },
    {
      "cell_type": "code",
      "source": [
        "predictions.shape"
      ],
      "metadata": {
        "colab": {
          "base_uri": "https://localhost:8080/"
        },
        "id": "8UhyIUrzaqrG",
        "outputId": "c288df5f-ada2-4cb2-fb43-03425d5eca1f"
      },
      "execution_count": 23,
      "outputs": [
        {
          "output_type": "execute_result",
          "data": {
            "text/plain": [
              "TensorShape([10, 786176])"
            ]
          },
          "metadata": {},
          "execution_count": 23
        }
      ]
    },
    {
      "cell_type": "markdown",
      "source": [
        "The output shape (10, 786176) means that we are getting a sequence of 2 timesteps, where each timestep has a height of 32 pixels, a width of 32 pixels, and 2 feature maps (or \"channels\"), and each feature map has 256 values.\n",
        "\n",
        "Specifically, the shape of the output is (batch_size, timesteps, height, width, channels), where batch_size is the number of samples in the batch (in our case, 10), timesteps is the number of timesteps in the sequence (in our case, 2), height is the height of each timestep (in our case, 32 pixels), width is the width of each timestep (in our case, 32 pixels), and channels is the number of feature maps (in our case, 2).\n",
        "\n",
        "Therefore, the total number of elements in the output array is timesteps * height * width * channels, which is equal to 2 * 32 * 32 * 2 * 256 = 786176 in our case.\n",
        "\n",
        "##But there should be 3 channels !!!\n",
        "So there's some error in model architecture."
      ],
      "metadata": {
        "id": "Gr_ksGq5ePJN"
      }
    },
    {
      "cell_type": "code",
      "source": [
        "class PixelRNN(tf.keras.Model):\n",
        "  def __init__(self, hidden_dim=128, num_pixels=256):\n",
        "    super(PixelRNN, self).__init__()\n",
        "    # Define the hidden dimension and number of pixels\n",
        "    self.hidden_dim = hidden_dim\n",
        "    self.num_pixels = num_pixels\n",
        "    # Define the LSTM layer with the specified hidden dimension\n",
        "    self.lstm = layers.LSTM(hidden_dim, return_sequences=True)\n",
        "    # Define the Dense layer with softmax activation function\n",
        "    self.dense = layers.Dense(num_pixels * 3)\n",
        "\n",
        "  def call(self, x):\n",
        "    # Pass the input through the LSTM layer\n",
        "    x = self.lstm(x)\n",
        "    # Pass the output of LSTM layer through the Dense layer\n",
        "    return self.dense(x)"
      ],
      "metadata": {
        "id": "gwUumz-6c6Sp"
      },
      "execution_count": 24,
      "outputs": []
    },
    {
      "cell_type": "code",
      "source": [
        "model = PixelRNN()"
      ],
      "metadata": {
        "id": "P6beNNbzhN2L"
      },
      "execution_count": 25,
      "outputs": []
    },
    {
      "cell_type": "code",
      "source": [
        "model.compile(optimizer='adam', loss=tf.keras.losses.SparseCategoricalCrossentropy(from_logits=True),\n",
        "metrics=['accuracy'])"
      ],
      "metadata": {
        "id": "hFbtSmJ_hQnf"
      },
      "execution_count": 26,
      "outputs": []
    },
    {
      "cell_type": "code",
      "source": [
        "model.fit(x_train_inputs, x_train_targets, epochs=5)"
      ],
      "metadata": {
        "colab": {
          "base_uri": "https://localhost:8080/"
        },
        "id": "3C1UkeYihTgg",
        "outputId": "d6c1f401-959d-46e0-ee49-c96bb2045141"
      },
      "execution_count": 27,
      "outputs": [
        {
          "output_type": "stream",
          "name": "stdout",
          "text": [
            "Epoch 1/5\n",
            "1563/1563 [==============================] - 229s 145ms/step - loss: 0.1289 - accuracy: 0.0024\n",
            "Epoch 2/5\n",
            "1563/1563 [==============================] - 229s 147ms/step - loss: 0.0402 - accuracy: 0.0024\n",
            "Epoch 3/5\n",
            "1563/1563 [==============================] - 229s 147ms/step - loss: 0.0305 - accuracy: 0.0026\n",
            "Epoch 4/5\n",
            "1563/1563 [==============================] - 227s 145ms/step - loss: 0.0273 - accuracy: 0.0031\n",
            "Epoch 5/5\n",
            "1563/1563 [==============================] - 227s 145ms/step - loss: 0.0251 - accuracy: 0.0034\n"
          ]
        },
        {
          "output_type": "execute_result",
          "data": {
            "text/plain": [
              "<keras.src.callbacks.History at 0x79d5805731f0>"
            ]
          },
          "metadata": {},
          "execution_count": 27
        }
      ]
    },
    {
      "cell_type": "code",
      "source": [
        "model.evaluate(x_test_inputs, x_test_targets)"
      ],
      "metadata": {
        "colab": {
          "base_uri": "https://localhost:8080/"
        },
        "id": "JxLwS53Kl9oQ",
        "outputId": "3173268f-557f-456d-c1ee-e5e4ee72cb73"
      },
      "execution_count": 28,
      "outputs": [
        {
          "output_type": "stream",
          "name": "stdout",
          "text": [
            "313/313 [==============================] - 27s 85ms/step - loss: 0.0234 - accuracy: 0.0080\n"
          ]
        },
        {
          "output_type": "execute_result",
          "data": {
            "text/plain": [
              "[0.02342275157570839, 0.00800029281526804]"
            ]
          },
          "metadata": {},
          "execution_count": 28
        }
      ]
    },
    {
      "cell_type": "code",
      "source": [
        "predictions = model.predict(x_test_inputs[:10])"
      ],
      "metadata": {
        "colab": {
          "base_uri": "https://localhost:8080/"
        },
        "id": "1hszUMf-mHrn",
        "outputId": "0d5e3694-d598-4c9f-f7b3-3b3327e25287"
      },
      "execution_count": 29,
      "outputs": [
        {
          "output_type": "stream",
          "name": "stdout",
          "text": [
            "1/1 [==============================] - 0s 382ms/step\n"
          ]
        }
      ]
    },
    {
      "cell_type": "code",
      "source": [
        "predicted_images = predictions.reshape((-1, 32, 32, 3))"
      ],
      "metadata": {
        "colab": {
          "base_uri": "https://localhost:8080/",
          "height": 146
        },
        "id": "W3sHLSEqmL3E",
        "outputId": "c26b3ae7-9c55-4d8d-970f-54d2bea52027"
      },
      "execution_count": 31,
      "outputs": [
        {
          "output_type": "error",
          "ename": "ValueError",
          "evalue": "cannot reshape array of size 23585280 into shape (32,32,2)",
          "traceback": [
            "\u001b[0;31m---------------------------------------------------------------------------\u001b[0m",
            "\u001b[0;31mValueError\u001b[0m                                Traceback (most recent call last)",
            "\u001b[0;32m<ipython-input-31-966a3d545266>\u001b[0m in \u001b[0;36m<cell line: 1>\u001b[0;34m()\u001b[0m\n\u001b[0;32m----> 1\u001b[0;31m \u001b[0mpredicted_images\u001b[0m \u001b[0;34m=\u001b[0m \u001b[0mpredictions\u001b[0m\u001b[0;34m.\u001b[0m\u001b[0mreshape\u001b[0m\u001b[0;34m(\u001b[0m\u001b[0;34m(\u001b[0m\u001b[0;34m-\u001b[0m\u001b[0;36m1\u001b[0m\u001b[0;34m,\u001b[0m \u001b[0;36m32\u001b[0m\u001b[0;34m,\u001b[0m \u001b[0;36m32\u001b[0m\u001b[0;34m,\u001b[0m \u001b[0;36m2\u001b[0m\u001b[0;34m)\u001b[0m\u001b[0;34m)\u001b[0m\u001b[0;34m\u001b[0m\u001b[0;34m\u001b[0m\u001b[0m\n\u001b[0m",
            "\u001b[0;31mValueError\u001b[0m: cannot reshape array of size 23585280 into shape (32,32,2)"
          ]
        }
      ]
    },
    {
      "cell_type": "markdown",
      "source": [
        "The total number of elements in the output array is timesteps * height * width * channels, which is equal to 3 * 32 * 32 * 3 * 256 = 786176 in our case.\n",
        "\n",
        "In this case idk why it is taking timestamp = 3."
      ],
      "metadata": {
        "id": "PSjCLlWdnS1l"
      }
    }
  ]
}